{
 "cells": [
  {
   "cell_type": "markdown",
   "metadata": {},
   "source": [
    "## Git-flyt\n",
    "En god oversikt hentet fra github om flyten og begrepene: https://guides.github.com/introduction/flow/\n",
    "\n",
    "Du ønsker å gjøre en endring i et git-repo. Da gjør du følgende steg:\n",
    "1. Lag en ny *feature-branch* på repoet i github (gi branchen et navn som forklarer endringen) \n",
    "2. Hent branchen i JupyterLab (stå i repoet og velg **pull**)\n",
    "3. Velg/stå i branchen og du er klar for å gjøre endringene\n",
    "4. Gjør endringene i JupyterLab\n",
    "5. **Commit** endringene når du ønsker å versjonere dem (skriv litt forklarende hva endringen er, så er det letter å finne tilbake til versjonen)\n",
    "6. Når du ønsker å dele endringene med andre så **Push**\n",
    "7. Når du ønsker å **merge** endringene til hovedbranchen, oppretter du en **Pull Reguest** i github\n",
    "8. Du må velge *reviewers* som skal kvalitetssikre\n",
    "9. Reviewer kvalitetssikrerer og til slutt godkjenner endringene\n",
    "10. Du (eller reviewer) kan merge endringene til hovedbranchen"
   ]
  },
  {
   "cell_type": "code",
   "execution_count": null,
   "metadata": {},
   "outputs": [],
   "source": []
  }
 ],
 "metadata": {
  "kernelspec": {
   "display_name": "Python 3",
   "language": "python",
   "name": "python3"
  },
  "language_info": {
   "codemirror_mode": {
    "name": "ipython",
    "version": 3
   },
   "file_extension": ".py",
   "mimetype": "text/x-python",
   "name": "python",
   "nbconvert_exporter": "python",
   "pygments_lexer": "ipython3",
   "version": "3.8.6"
  }
 },
 "nbformat": 4,
 "nbformat_minor": 4
}
