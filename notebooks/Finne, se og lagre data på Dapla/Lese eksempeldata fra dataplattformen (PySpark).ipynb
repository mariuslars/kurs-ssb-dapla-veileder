{
 "cells": [
  {
   "cell_type": "markdown",
   "metadata": {},
   "source": [
    "## Lese eksempeldata fra dataplattformen (PySpark)"
   ]
  },
  {
   "cell_type": "markdown",
   "metadata": {},
   "source": [
    "## Hente data fra felles datalager\n",
    "For å hente data fra datalager må du å vite hvor dataene ligger. Du må kjenne til stien til dataene (<i>data path</i>), som f.eks. \"felles/veiledning/pyspark/eksempler/areal\". Koden for å lese data i pyspark er: \n",
    "<code>spark.read.path(\"data path\")</code>\n",
    "\n",
    "Pyspark-funksjonen trenger å importere pyspark.sql.DataFrame: <code>from pyspark.sql import DataFrame</code>\n",
    "</font>"
   ]
  },
  {
   "cell_type": "markdown",
   "metadata": {},
   "source": [
    "#### Importere biblioteker (kode)"
   ]
  },
  {
   "cell_type": "code",
   "execution_count": null,
   "metadata": {},
   "outputs": [],
   "source": [
    "# Det er ikke behov for å importere biblioteker. Spark-objektet er allerede instansiert i pyspark-kjernen."
   ]
  },
  {
   "cell_type": "markdown",
   "metadata": {},
   "source": [
    "### Utforske data på dataplattformen\n",
    "<font size=2>Dataplattformen er delt inn i fem dataområder:\n",
    "- <code>/kilde/</code>: Pseudonymiserte rådata fra datakildene\n",
    "- <code>/produkt/</code>: Data knyttet til statistikkproduktet lagres og deles\n",
    "- <code>/publikasjon/</code>: Ferdige tabeller klare til publikasjon\n",
    "- <code>/felles/</code>: Data som kan deles med alle og som ikke er knyttet til statistikkprodukt, f.eks. data til kurs og opplæring\n",
    "- <code>/user/</code>: Personlige område\n",
    "</font>"
   ]
  },
  {
   "cell_type": "markdown",
   "metadata": {},
   "source": [
    "#### Lete etter data på dataplattformen (kode)"
   ]
  },
  {
   "cell_type": "code",
   "execution_count": null,
   "metadata": {},
   "outputs": [],
   "source": [
    "#Endre parameteret i ...path(\" \")\n",
    "\n",
    "spark.read.path(\"/produkt/ska*\").show(15, False)"
   ]
  },
  {
   "cell_type": "markdown",
   "metadata": {},
   "source": [
    "#### Se etter eksempeldata (kode)"
   ]
  },
  {
   "cell_type": "code",
   "execution_count": null,
   "metadata": {},
   "outputs": [],
   "source": [
    "spark.read.path(\"/felles/veiledning/pyspark/eksempler*\").show(10, False)"
   ]
  },
  {
   "cell_type": "markdown",
   "metadata": {},
   "source": [
    "#### Hente eksempeldata (kode)"
   ]
  },
  {
   "cell_type": "code",
   "execution_count": null,
   "metadata": {},
   "outputs": [],
   "source": [
    "df_areal = spark.read.path(\"/felles/veiledning/pyspark/eksempler/areal\")\n",
    "\n",
    "print(\"*********************************** AREAL ***********************************\")\n",
    "df_areal.show(50,False)"
   ]
  },
  {
   "cell_type": "code",
   "execution_count": null,
   "metadata": {},
   "outputs": [],
   "source": []
  }
 ],
 "metadata": {
  "kernelspec": {
   "display_name": "Pyspark (local)",
   "language": "python",
   "name": "pyspark_local"
  },
  "language_info": {
   "codemirror_mode": {
    "name": "ipython",
    "version": 3
   },
   "file_extension": ".py",
   "mimetype": "text/x-python",
   "name": "python",
   "nbconvert_exporter": "python",
   "pygments_lexer": "ipython3",
   "version": "3.8.5"
  }
 },
 "nbformat": 4,
 "nbformat_minor": 4
}
