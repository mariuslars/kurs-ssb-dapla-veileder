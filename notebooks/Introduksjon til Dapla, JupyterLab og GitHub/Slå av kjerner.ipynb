{
 "cells": [
  {
   "cell_type": "markdown",
   "metadata": {},
   "source": [
    "# Slå av kjerner manuelt\n",
    "Når en starter en kjerne for å kjøre Python eller PySpark programmer, allokeres det teknisk infrastruktur i skyen. Dette skjer automatisk. Kjernene slås automatisk av etter noen timer.\n",
    "\n",
    "For å spare ressurser er det en god praksis å manuelt slå av de kjernene som ikke er i bruk.\n",
    "\n",
    "### Hvor finner jeg hvilke kjerner som kjører?\n",
    "\n",
    "\n",
    "<center>\n",
    "    <img src=\"../../img/number of running terminals & kernels.png\" width=400> | \n",
    "    <img src=\"../../img/running terminals and kernels.png\" width=400>\n",
    "</center>\n",
    "\n",
    "\n",
    "### Hvordan kan jeg slå av kjernene som kjører?\n",
    "\n",
    "\n",
    "\n",
    "<center>\n",
    "    <img src=\"../../img/shutdown kernels (three ways).png\" width=800> | \n",
    "</center>\n"
   ]
  },
  {
   "cell_type": "code",
   "execution_count": null,
   "metadata": {},
   "outputs": [],
   "source": []
  }
 ],
 "metadata": {
  "kernelspec": {
   "display_name": "Pyspark (local)",
   "language": "python",
   "name": "pyspark_local"
  },
  "language_info": {
   "codemirror_mode": {
    "name": "ipython",
    "version": 3
   },
   "file_extension": ".py",
   "mimetype": "text/x-python",
   "name": "python",
   "nbconvert_exporter": "python",
   "pygments_lexer": "ipython3",
   "version": "3.8.5"
  }
 },
 "nbformat": 4,
 "nbformat_minor": 4
}
