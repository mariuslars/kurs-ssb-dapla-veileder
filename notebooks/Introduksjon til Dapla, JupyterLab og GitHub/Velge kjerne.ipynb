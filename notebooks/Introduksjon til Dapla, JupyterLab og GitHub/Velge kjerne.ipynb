{
 "cells": [
  {
   "cell_type": "markdown",
   "metadata": {},
   "source": [
    "# Velge kjerne\n",
    "\n",
    "### Hva er en kjerne?\n",
    "\n",
    "### Hvilke kjerner tilbys\n",
    "Dataplattformen tilbyr ulike kjerner til ulike formål:\n",
    "\n",
    "- PySpark (local) : \n",
    "- PySpark (k8s) : \n",
    "- Python 3 : \n",
    "\n",
    "### Hvordan velge kjerne\n",
    "\n",
    "### Hvordan endre kjerne"
   ]
  },
  {
   "cell_type": "code",
   "execution_count": null,
   "metadata": {},
   "outputs": [],
   "source": []
  }
 ],
 "metadata": {
  "kernelspec": {
   "display_name": "Pyspark (local)",
   "language": "python",
   "name": "pyspark_local"
  },
  "language_info": {
   "codemirror_mode": {
    "name": "ipython",
    "version": 3
   },
   "file_extension": ".py",
   "mimetype": "text/x-python",
   "name": "python",
   "nbconvert_exporter": "python",
   "pygments_lexer": "ipython3",
   "version": "3.8.5"
  }
 },
 "nbformat": 4,
 "nbformat_minor": 4
}
